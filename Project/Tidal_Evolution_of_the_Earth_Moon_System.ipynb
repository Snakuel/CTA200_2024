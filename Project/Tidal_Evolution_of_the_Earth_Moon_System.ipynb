{
 "cells": [
  {
   "cell_type": "code",
   "execution_count": null,
   "id": "94479302-fb3d-451d-bfd5-d2f4a15f925f",
   "metadata": {},
   "outputs": [],
   "source": [
    "import numpy as np\n",
    "import matplotlib.pyplot as plt\n",
    "from astropy import units as u\n",
    "from astropy.constants import G\n",
    "from scipy.integrate import solve_ivp\n",
    "from matplotlib.backends.backend_pdf import PdfPages"
   ]
  },
  {
   "cell_type": "code",
   "execution_count": null,
   "id": "51e6aace-147c-42c4-8e92-e043dc68b648",
   "metadata": {},
   "outputs": [],
   "source": [
    "# Define the constants and provide their units.\n",
    "\n",
    "G = G.to(u.cm**3/(u.g * u.s**2)) # Gravitational constant\n",
    "\n",
    "M_moon = 7.349e25 * u.g # Mass of Moon\n",
    "M_earth = 5.97e27 * u.g # Mass of Earth\n",
    "M_sun = 1.98e33 * u.g # Mass of Sun\n",
    "\n",
    "R_earth = 6371 * u.km # Radius of Earth\n",
    "R_moon = 1740 * u.km # Radius of Moon\n",
    "# data from: https://science.nasa.gov/moon/facts/#:~:text=The%20Moon%20makes%20a%20complete,orbit%20us%20every%2029%20days.\n",
    "\n",
    "k2 = 0.298 # Dimensionless number\n",
    "Q_moon = 11.5 # Dimensionless tidal quality factor\n",
    "\n",
    "a_moon0 = 384000 * u.km # Semimajoraxise distance of the Moon\n",
    "a_earth = 1.49e8 * u.km # Semimajoraxise distance of Earth\n",
    "\n",
    "I = 0.3299 * M_earth * R_earth ** 2 # Earth's moment of inertial\n",
    "\n",
    "lod = 86164 * u.s # length of the sidereal day\n",
    "Omega_earth = (2 * np.pi)/lod # Earth's angular velocity \n",
    "\n",
    "Ratio_sun_moon = 1/4.7 # Ratio between Solar tidal torque and Lunar tidal torque"
   ]
  },
  {
   "cell_type": "markdown",
   "id": "e4e947b0-edf0-46ba-aa43-3bdb1ec6a690",
   "metadata": {
    "jp-MarkdownHeadingCollapsed": true
   },
   "source": [
    "#### Now we can print out those constants with their units shown:"
   ]
  },
  {
   "cell_type": "code",
   "execution_count": null,
   "id": "d815eb0c-3a22-49f5-b2c8-33f0e9839412",
   "metadata": {},
   "outputs": [],
   "source": [
    "G"
   ]
  },
  {
   "cell_type": "code",
   "execution_count": null,
   "id": "01a8819a-b2ed-473f-ad83-20270223f8db",
   "metadata": {},
   "outputs": [],
   "source": [
    "M_moon"
   ]
  },
  {
   "cell_type": "code",
   "execution_count": null,
   "id": "0c20eb4b-259e-4a49-bcd9-48dd3f5e3bd0",
   "metadata": {},
   "outputs": [],
   "source": [
    "M_earth"
   ]
  },
  {
   "cell_type": "code",
   "execution_count": null,
   "id": "e79c30cd-28b6-40d8-8322-c548d00c1066",
   "metadata": {},
   "outputs": [],
   "source": [
    "M_sun"
   ]
  },
  {
   "cell_type": "code",
   "execution_count": null,
   "id": "df6bf6ae-498b-4d39-bbdd-99416b3f2798",
   "metadata": {},
   "outputs": [],
   "source": [
    "R_earth"
   ]
  },
  {
   "cell_type": "code",
   "execution_count": null,
   "id": "7fafed1e-af47-4168-85c9-435ec91b0a82",
   "metadata": {},
   "outputs": [],
   "source": [
    "k2"
   ]
  },
  {
   "cell_type": "code",
   "execution_count": null,
   "id": "35cad1c2-8359-423b-8d30-7a230d63fe44",
   "metadata": {},
   "outputs": [],
   "source": [
    "Q_moon"
   ]
  },
  {
   "cell_type": "code",
   "execution_count": null,
   "id": "f0d162eb-c151-4092-964b-2f25db447000",
   "metadata": {},
   "outputs": [],
   "source": [
    "a_moon0"
   ]
  },
  {
   "cell_type": "code",
   "execution_count": null,
   "id": "b75c8a06-00db-4469-a94c-73dd46b82968",
   "metadata": {},
   "outputs": [],
   "source": [
    "a_earth"
   ]
  },
  {
   "cell_type": "code",
   "execution_count": null,
   "id": "06bc7d2f-073c-4015-8add-061f48c0ee4b",
   "metadata": {},
   "outputs": [],
   "source": [
    "I"
   ]
  },
  {
   "cell_type": "code",
   "execution_count": null,
   "id": "c89cd766-40d5-4b5c-bc0b-7c72ec708d4c",
   "metadata": {},
   "outputs": [],
   "source": [
    "lod"
   ]
  },
  {
   "cell_type": "code",
   "execution_count": null,
   "id": "7f70d07c-4903-474c-b996-f2bf5a33ce33",
   "metadata": {},
   "outputs": [],
   "source": [
    "Omega_earth"
   ]
  },
  {
   "cell_type": "code",
   "execution_count": null,
   "id": "319a2d6b-5c84-41ab-bf70-76c5c4c1b745",
   "metadata": {},
   "outputs": [],
   "source": [
    "Ratio_sun_moon"
   ]
  },
  {
   "cell_type": "markdown",
   "id": "5a22a663-cb32-423d-a859-d9dfa8a8194a",
   "metadata": {},
   "source": [
    "Notice there are some constans not using cgs unit."
   ]
  },
  {
   "cell_type": "markdown",
   "id": "b82204ba-4d9c-44ae-8fa8-93df2c7905af",
   "metadata": {
    "jp-MarkdownHeadingCollapsed": true
   },
   "source": [
    "### Task 1: Convert the constants to CGS units."
   ]
  },
  {
   "cell_type": "code",
   "execution_count": null,
   "id": "04ad493e-d0bc-4057-90f4-311dbc6204ea",
   "metadata": {},
   "outputs": [],
   "source": [
    "R_earth = R_earth.to(u.cm) # convert Earth radius into cm\n",
    "R_earth"
   ]
  },
  {
   "cell_type": "code",
   "execution_count": null,
   "id": "f47732a0-7ca4-47db-a9e8-7a9742bcccfe",
   "metadata": {},
   "outputs": [],
   "source": [
    "R_moon = R_moon.to(u.cm) # convert Moon radius into cm\n",
    "R_moon"
   ]
  },
  {
   "cell_type": "code",
   "execution_count": null,
   "id": "6fa12839-21c0-4c8f-8f77-9758bf561d62",
   "metadata": {},
   "outputs": [],
   "source": [
    "a_moon0 = a_moon0.to(u.cm) # convert Semimajoraxise distance of the Moon into cm\n",
    "a_moon0"
   ]
  },
  {
   "cell_type": "code",
   "execution_count": null,
   "id": "916deb34-6d1c-4c55-aff5-811b9ea1c8c3",
   "metadata": {},
   "outputs": [],
   "source": [
    "a_earth = a_earth.to(u.cm) # convert Semimajoraxise distance of Earth into cm\n",
    "a_earth"
   ]
  },
  {
   "cell_type": "code",
   "execution_count": null,
   "id": "8e1b5ed0-6967-4486-9c0f-09f27b015849",
   "metadata": {},
   "outputs": [],
   "source": [
    "I = I.to(u.g * (u.cm**2)) # convert Earth's moment of inertial into g/cm^2\n",
    "I"
   ]
  },
  {
   "cell_type": "markdown",
   "id": "89c8987c-b005-43ef-9790-d6e7cc7d0a05",
   "metadata": {
    "jp-MarkdownHeadingCollapsed": true
   },
   "source": [
    "#### Task 1.2: Calculate L_earth, S_earth and L_moon:"
   ]
  },
  {
   "cell_type": "code",
   "execution_count": null,
   "id": "495ede65-9bd4-41cf-a8fe-cea87635c254",
   "metadata": {},
   "outputs": [],
   "source": [
    "L_earth0 = M_earth * np.sqrt(G*(M_sun + M_earth) * a_earth)\n",
    "L_earth0 # Initial value of Earth's angular momentum: this is a constant."
   ]
  },
  {
   "cell_type": "code",
   "execution_count": null,
   "id": "1184b666-4efa-420c-ad20-fb6b030788d9",
   "metadata": {},
   "outputs": [],
   "source": [
    "S_earth0 = I * Omega_earth\n",
    "S_earth0 # Initial value of Earth's spin angular momentum."
   ]
  },
  {
   "cell_type": "code",
   "execution_count": null,
   "id": "f1d8aecc-8e90-44b1-b436-f62833a11e66",
   "metadata": {},
   "outputs": [],
   "source": [
    "def L_moon(a_moon):\n",
    "    \"\"\"\n",
    "    Calculate the angular momentum of the Moon.\n",
    "\n",
    "    This function computes the angular momentum of the Moon given its semimajor axis distance. \n",
    "    The result is returned as an astropy.units.quantity.Quantity object with units of cm^2 * g * s^-1.\n",
    "\n",
    "    Parameters:\n",
    "    \n",
    "    a_moon : astropy.units.quantity.Quantity\n",
    "    \n",
    "        Semimajor axis distance of the Moon in centimeters.\n",
    "\n",
    "    Returns:\n",
    "    \n",
    "    L_moon : astropy.units.quantity.Quantity\n",
    "    \n",
    "        The angular momentum of the Moon in units of cm^2 * g * s^-1.\n",
    "    \"\"\"\n",
    "    L_moon = M_moon * np.sqrt(G*(M_earth + M_moon) * a_moon)\n",
    "    return L_moon"
   ]
  },
  {
   "cell_type": "code",
   "execution_count": null,
   "id": "2ca9328a-d0b2-451c-8e29-d72e8aaf1505",
   "metadata": {},
   "outputs": [],
   "source": [
    "L_moon0 = L_moon(a_moon0) # Lunar angular momentum (L_moon) will change as the semi-major axis of the Moon (a_moon) varies.\n",
    "L_moon0 # Initial(today's) value of the Moon's angular momentum"
   ]
  },
  {
   "cell_type": "markdown",
   "id": "494e0ac6-db45-43a6-a2ff-fd90eecc2918",
   "metadata": {
    "jp-MarkdownHeadingCollapsed": true
   },
   "source": [
    "### Task 2:"
   ]
  },
  {
   "cell_type": "code",
   "execution_count": null,
   "id": "fd9f03a0-05da-4d75-a17a-10f4e2c03e25",
   "metadata": {},
   "outputs": [],
   "source": [
    "def T_moon(a_moon):\n",
    "    \"\"\"\n",
    "    Calculate the tidal torque on the Moon.\n",
    "\n",
    "    This function computes the tidal torque exerted on the Moon given its semimajor axis distance. \n",
    "    The result is returned as an astropy.units.quantity.Quantity object with units of cm^3 * g * s^-2.\n",
    "\n",
    "    Parameters:\n",
    "    \n",
    "    a_moon : astropy.units.quantity.Quantity\n",
    "    \n",
    "        Semimajor axis distance of the Moon in centimeters.\n",
    "\n",
    "    Returns:\n",
    "    \n",
    "    T_moon : astropy.units.quantity.Quantity\n",
    "    \n",
    "        The tidal torque on the Moon in units of cm^3 * g * s^-2.\n",
    "    \"\"\"\n",
    "\n",
    "    T_moon = 1.5 * ((G * M_moon ** 2 )/ a_moon) * (R_earth / a_moon) ** 5 *(k2 / Q_moon)   \n",
    "    \n",
    "    return T_moon"
   ]
  },
  {
   "cell_type": "code",
   "execution_count": null,
   "id": "24c41736-ad52-46d8-8f1c-f37fba44f339",
   "metadata": {},
   "outputs": [],
   "source": [
    "T_moon0 = T_moon(a_moon0) # initial (today's) value of the Moon's tidal torque \n",
    "T_moon0"
   ]
  },
  {
   "cell_type": "code",
   "execution_count": null,
   "id": "58acd9f3-5dc4-49a1-8fed-ddea2a613357",
   "metadata": {},
   "outputs": [],
   "source": [
    "T_sun = 1.5 * G * M_moon ** 2 * R_earth ** 5 * (k2 / Q_moon) * (1/4.7) * (1/a_moon0)** 6\n",
    "# T_sun is a constant value since a_moon^6 cancel out"
   ]
  },
  {
   "cell_type": "code",
   "execution_count": null,
   "id": "d1bc5bd5-f103-4a20-b412-5e73c73a84f0",
   "metadata": {},
   "outputs": [],
   "source": [
    "T_sun0 = T_sun # initial (today's) value of the Solar's tidal torque \n",
    "T_sun0"
   ]
  },
  {
   "cell_type": "code",
   "execution_count": null,
   "id": "ffe44ba8-26ac-49e3-b26f-ce9d19a007f9",
   "metadata": {},
   "outputs": [],
   "source": [
    "# We can see that our calculation result is consistent with the given ratio\n",
    "T_sun0/T_moon0"
   ]
  },
  {
   "cell_type": "code",
   "execution_count": null,
   "id": "bacf317c-ee29-406a-b7eb-65fed6a93679",
   "metadata": {},
   "outputs": [],
   "source": [
    "Ratio_sun_moon"
   ]
  },
  {
   "cell_type": "markdown",
   "id": "16a418f8-3bf5-4a4a-b1d6-48df09fc6474",
   "metadata": {
    "jp-MarkdownHeadingCollapsed": true
   },
   "source": [
    "### Task 3: Calculate the three timescales associated with equations (1) to (3)."
   ]
  },
  {
   "cell_type": "code",
   "execution_count": null,
   "id": "bb973c59-baca-4ef5-adcd-af2cb5c73f34",
   "metadata": {},
   "outputs": [],
   "source": [
    "t_1 = L_earth0 / T_sun0 # this is a constant value.\n",
    "t_1_yr = t_1.to(u.yr)\n",
    "t_1_yr"
   ]
  },
  {
   "cell_type": "code",
   "execution_count": null,
   "id": "51083adc-ef69-4272-9968-44f5e624d3a0",
   "metadata": {},
   "outputs": [],
   "source": [
    "t_2 = S_earth0 / (- T_sun0 - T_moon0)\n",
    "t_2_yr = t_1.to(u.yr)\n",
    "t_1_yr"
   ]
  },
  {
   "cell_type": "code",
   "execution_count": null,
   "id": "95ddf377-3db7-45e3-a3dd-75bd410168dc",
   "metadata": {},
   "outputs": [],
   "source": [
    "t_3 = L_moon0 / T_moon0\n",
    "t_3_yr = t_1.to(u.yr)\n",
    "t_3_yr"
   ]
  },
  {
   "cell_type": "markdown",
   "id": "d841d547-4bf9-4f31-9c8b-ea16b7a1a222",
   "metadata": {
    "jp-MarkdownHeadingCollapsed": true
   },
   "source": [
    "### Task 4: Define a function that evaluates the right-hand side (RHS) of equations (1) to (3):"
   ]
  },
  {
   "cell_type": "code",
   "execution_count": null,
   "id": "c760815d-f17d-46ab-bdea-99a3f5199a65",
   "metadata": {},
   "outputs": [],
   "source": [
    "def ax(lm):\n",
    "    \"\"\"\n",
    "    Calculate the semimajor axis distance of the Moon.\n",
    "\n",
    "    This function computes the semimajor axis distance of the Moon given its angular momentum. \n",
    "    The result is returned as an astropy.units.quantity.Quantity object with units of centimeters.\n",
    "\n",
    "    Parameters:\n",
    "    \n",
    "    lm : astropy.units.quantity.Quantity\n",
    "    \n",
    "        Angular momentum of the Moon in cm^2 * g * s^-1.\n",
    "\n",
    "    Returns:\n",
    "    \n",
    "    a_moon : astropy.units.quantity.Quantity\n",
    "    \n",
    "        The semimajor axis distance of the Moon in units of cm.\n",
    "    \"\"\"\n",
    "    \n",
    "    a_moon = (lm / M_moon) ** 2 / (G * (M_earth + M_moon))\n",
    "    \n",
    "    return a_moon"
   ]
  },
  {
   "cell_type": "code",
   "execution_count": null,
   "id": "89efa60e-6108-4fda-bb67-dfdf65fa4313",
   "metadata": {},
   "outputs": [],
   "source": [
    "def rhs(t, W):\n",
    "    \"\"\"\n",
    "    Calculate the right-hand side of equations (1) to (3)\n",
    "    \n",
    "    l : Earth's angular momentum\n",
    "    s : Earth spin angular momentum\n",
    "    lm : Moon's angular momentum\n",
    "    \n",
    "    This function defines the right-hand side of equations (1) to (3), given time and a parameter vector W, which contains l, s, and lm.\n",
    "    The equations represent the rate of change of l, s, and lm.\n",
    "    \n",
    "    Parameters:\n",
    "    \n",
    "    t : tuple\n",
    "    \n",
    "        Time in seconds.\n",
    "    \n",
    "    W : list\n",
    "    \n",
    "        Parameter vector containing the values of l, s, and lm.\n",
    "\n",
    "    Returns:\n",
    "    \n",
    "    list\n",
    "    \n",
    "        The list of derivatives of l, s, and lm with respect to time.\n",
    "    \"\"\"\n",
    "\n",
    "def rhs(t, W):\n",
    "    l, s, lm = W\n",
    "    \n",
    "    axx = ax(lm)\n",
    "    \n",
    "    ts = T_sun.value # We only want to take the value without unit.\n",
    "    tm = T_moon(axx).value # We only want to take the value without unit.\n",
    "    \n",
    "    l_dot = ts \n",
    "    s_dot = - ts - tm\n",
    "    lm_dot = tm\n",
    "    \n",
    "    return [l_dot, s_dot, lm_dot]"
   ]
  },
  {
   "cell_type": "markdown",
   "id": "6f6f2f13-c381-47e8-a9c4-6557375fac0c",
   "metadata": {
    "jp-MarkdownHeadingCollapsed": true
   },
   "source": [
    "### Task 5: Using solve_ivp to solve the right-hand side (RHS) and find the time it takes for the Moon to form, in years."
   ]
  },
  {
   "cell_type": "code",
   "execution_count": null,
   "id": "c267219b-d11f-4a40-9302-b4fe7f9680f5",
   "metadata": {},
   "outputs": [],
   "source": [
    "# Ser initial conditions \n",
    "l0 = L_earth0.value\n",
    "s0 = S_earth0.value\n",
    "lm0 = L_moon0.value\n",
    "\n",
    "W0 = [l0, s0, lm0] # list without units\n",
    "\n",
    "# Time span unit in seacond\n",
    "t_span = (0, -1e30)\n",
    "\n",
    "N = 31536000 # 1yr = 365 days * 24hr/day * 60 mins/hr * 60 s/min = 31536000s\n",
    "t_eval = np.linspace(*t_span, N)\n",
    "\n",
    "# Evaluates the right-hand side (RHS) of equations (1) to (3):\n",
    "sol = solve_ivp(rhs, t_span, W0)"
   ]
  },
  {
   "cell_type": "code",
   "execution_count": null,
   "id": "57db2b12-7a15-4526-b4f2-ff47ad1b940f",
   "metadata": {},
   "outputs": [],
   "source": [
    "# print out result \n",
    "sol"
   ]
  },
  {
   "cell_type": "markdown",
   "id": "1e98ee2d-71c8-4f03-a28d-c3321463c1a5",
   "metadata": {
    "jp-MarkdownHeadingCollapsed": true
   },
   "source": [
    "### Task 6: Create a figure displaying the graph of a_moon versus time (t).\""
   ]
  },
  {
   "cell_type": "code",
   "execution_count": null,
   "id": "0313143a-bd36-4073-aa25-0f7719904c5c",
   "metadata": {},
   "outputs": [],
   "source": [
    "# Extract the results and assign units.\n",
    "t = sol.t * u.s\n",
    "l = sol.y[0] * ((u.cm**2 * u.g)/u.s)\n",
    "s = sol.y[1] * ((u.cm**2 * u.g)/u.s)\n",
    "lm = sol.y[2] * ((u.cm**2 * u.g)/u.s)"
   ]
  },
  {
   "cell_type": "code",
   "execution_count": null,
   "id": "fba74bc2-51df-476c-bb4e-ba092a42c71c",
   "metadata": {},
   "outputs": [],
   "source": [
    "age = t.to(u.Gyr) # convert unit into billions of years from seconds\n",
    "age"
   ]
  },
  {
   "cell_type": "code",
   "execution_count": null,
   "id": "4919eff8-b5cb-4666-8681-747d3a743f73",
   "metadata": {},
   "outputs": [],
   "source": [
    "a_moon_km = ax(lm).to(u.km) # convert unit into km from cm \n",
    "a_moon_km"
   ]
  },
  {
   "cell_type": "code",
   "execution_count": null,
   "id": "b2d21c89-e2cd-405b-a999-06635b10b0c9",
   "metadata": {},
   "outputs": [],
   "source": [
    "plt.plot(age, a_moon_km, color='r', label='a_moon(t)')\n",
    "plt.title(\"Evolution of the Moon's Semimajor Axis with Age\")\n",
    "plt.xlabel('Age(Gyr)')\n",
    "plt.ylabel('Simemajor axis (km)')\n",
    "plt.savefig(\"age.pdf\") # save as a pdf file\n",
    "plt.grid(True)\n",
    "plt.legend()\n",
    "plt.show()"
   ]
  },
  {
   "cell_type": "markdown",
   "id": "f3efa704-17ac-44a2-9dbb-fb1a16a90aaf",
   "metadata": {
    "jp-MarkdownHeadingCollapsed": true
   },
   "source": [
    "### Task 7: Make a figure showing the length of the day (in hours) versus age, with the same note as in the previous question."
   ]
  },
  {
   "cell_type": "code",
   "execution_count": null,
   "id": "ed6e03a5-e792-4dcd-a9c8-57f8782c247f",
   "metadata": {},
   "outputs": [],
   "source": [
    "def find_lod(s):\n",
    "    \"\"\"\n",
    "    Calculate the length of the day with different Earth's spin angular momentum.\n",
    "\n",
    "    This function computes the length of the day given Earth's spin angular momentum.\n",
    "    \n",
    "    Parameters:\n",
    "    \n",
    "    s : astropy.units.quantity.Quantity\n",
    "    \n",
    "        Earth's spin angular momentum.\n",
    "\n",
    "    Returns:\n",
    "    \n",
    "    lod : astropy.units.quantity.Quantity\n",
    "    \n",
    "        The length of the day in seconds.\n",
    "    \"\"\"\n",
    "    Omega_earth  = s / I # Earth's angular velocity\n",
    "    \n",
    "    lod = (2 * np.pi)/Omega_earth  \n",
    "    \n",
    "    return lod"
   ]
  },
  {
   "cell_type": "code",
   "execution_count": null,
   "id": "74db21b4-0241-4c2a-a54d-cc1740bef214",
   "metadata": {},
   "outputs": [],
   "source": [
    "lod_hr = find_lod(s).to(u.hr) # convert unit into hours from second\n",
    "lod_hr"
   ]
  },
  {
   "cell_type": "code",
   "execution_count": null,
   "id": "9a2f04e9-f626-430a-a26f-8d4e7cba2745",
   "metadata": {},
   "outputs": [],
   "source": [
    "plt.plot(age, lod_hr, color='g', label='Length 0f Day')\n",
    "plt.title(\"Temporal Evolution of Earth's Day Length\")\n",
    "plt.xlabel('Age (Gyr)')\n",
    "plt.ylabel('Length of Day (hours)')\n",
    "plt.savefig(\"lod.pdf\") # save as a pdf file\n",
    "plt.grid(True)\n",
    "plt.legend()\n",
    "plt.show()"
   ]
  },
  {
   "cell_type": "markdown",
   "id": "502ee516-6338-452f-8d2d-bc8988ad1e0e",
   "metadata": {
    "jp-MarkdownHeadingCollapsed": true
   },
   "source": [
    "### Task 8: What is the Roche radius. Assuming that the moon did form there, what was the length of the day at the time of the Moon’s formation? "
   ]
  },
  {
   "cell_type": "code",
   "execution_count": null,
   "id": "e338a9c9-53c6-4834-bf14-145ae42c3403",
   "metadata": {},
   "outputs": [],
   "source": [
    "rho_earth = M_earth /((4/3) * np.pi * R_earth ** 3) # Earth's density \n",
    "rho_earth"
   ]
  },
  {
   "cell_type": "code",
   "execution_count": null,
   "id": "d7923fd0-ea74-46c6-b330-b93a4bc62250",
   "metadata": {},
   "outputs": [],
   "source": [
    "rho_moon = M_moon /((4/3) * np.pi * R_moon ** 3) # Moon's density\n",
    "rho_moon"
   ]
  },
  {
   "cell_type": "code",
   "execution_count": null,
   "id": "911c3be9-83e5-4be4-b49b-043aa6901abb",
   "metadata": {},
   "outputs": [],
   "source": [
    "d = R_earth*((2*(rho_earth/rho_moon))** (1/3)) # calculate Roche radius\n",
    "d_km = d.to(u.km) # convert Roche radius into km\n",
    "d_km"
   ]
  },
  {
   "cell_type": "code",
   "execution_count": null,
   "id": "244885d9-bfb5-4872-aba6-2eb5e2eda9ee",
   "metadata": {},
   "outputs": [],
   "source": [
    "# Assuming that the moon did form there then a_moon = d\n",
    "lmr  = np.sqrt((G * (M_earth + M_moon)) * d) * M_moon  # Moon's Angular momentum at Roche radius.\n",
    "\n",
    "# We know that the Earth's spin angular momentum plus the Moon's angular momentum is considered constant. \n",
    "L_EM = S_earth0 + L_moon0 \n",
    "\n",
    "# Therefore, using this constant, we can determine the Earth's spin angular momentum given the Moon's angular momentum at its Roche radius.\n",
    "s_d = L_EM - lmr"
   ]
  },
  {
   "cell_type": "code",
   "execution_count": null,
   "id": "5e295386-4f94-42d9-af53-62f5255946c5",
   "metadata": {},
   "outputs": [],
   "source": [
    "find_lod(s_d)"
   ]
  },
  {
   "cell_type": "markdown",
   "id": "7c03223d-26eb-442d-b07a-7842e2d828d9",
   "metadata": {
    "jp-MarkdownHeadingCollapsed": true
   },
   "source": [
    "### Task 9: What's the age of the Moon, and of the Earth."
   ]
  },
  {
   "cell_type": "code",
   "execution_count": null,
   "id": "3a60173a-ddac-4739-b3fc-9a567d3f7f3b",
   "metadata": {},
   "outputs": [],
   "source": [
    "Age_of_moon = 4.35 * u.Gyr\n",
    "Age_of_Earth = 4.54 * u.Gyr\n",
    "\n",
    "\n",
    "\"\"\" \n",
    "\n",
    "1. U.S. Geological Survey 1997, Age of the Earth, \\url{https://pubs.usgs.gov/gip/geotime/age.html}\n",
    "\n",
    "2.Dalrymple, G. Brent 2001, \"The age of the Earth in the twentieth century: a problem (mostly) solved,\" \\\n",
    "Special Publications, Geological Society of London, 190, 205-221, \\url{https://doi.org/10.1144/GSL.SP.2001.190.01.14}\n",
    "\n",
    "3.National Aeronautics and Space Administration (NASA), Moon Fact Sheet,\n",
    "\\url{https://nssdc.gsfc.nasa.gov/planetary/factsheet/moonfact.html}\n",
    "\n",
    "4.National Aeronautics and Space Administration (NASA), Earth Fact Sheet, \n",
    "\\url{https://nssdc.gsfc.nasa.gov/planetary/factsheet/earthfact.html}\n",
    "\n",
    "5.Borg, L. E., Gaffney, A. M., & Shearer, C. K. 2015, \"A review of lunar chronology revealing a preponderance of 4.34–4.37 Ga ages,\"\\\n",
    "Meteoritics & Planetary Science, 50, 715-732, \\url{https://doi.org/10.1111/maps.12371}\n",
    "\n",
    "\"\"\""
   ]
  },
  {
   "cell_type": "code",
   "execution_count": null,
   "id": "e17edd98-d38d-4e1d-b939-97a408e8b72f",
   "metadata": {},
   "outputs": [],
   "source": [
    "print(f'Age of the Moon is: {Age_of_moon}; Age of the Earth is: {Age_of_Earth}')"
   ]
  },
  {
   "cell_type": "code",
   "execution_count": null,
   "id": "da3dba09-a2af-41d1-a384-f26502e78073",
   "metadata": {},
   "outputs": [],
   "source": []
  },
  {
   "cell_type": "markdown",
   "id": "8ce6f424-e694-4815-93eb-17411434db88",
   "metadata": {
    "jp-MarkdownHeadingCollapsed": true
   },
   "source": [
    "### Save all the output result in one signal pdf file."
   ]
  },
  {
   "cell_type": "code",
   "execution_count": null,
   "id": "1cda6e3f-60b2-4138-bef2-72d7d95c0290",
   "metadata": {},
   "outputs": [],
   "source": [
    "with PdfPages('result_graph.pdf') as pdf:\n",
    " \n",
    "# save all the figure in one pdf file named output.\n",
    "\n",
    "    plt.plot(age, a_moon_km, color='r', label='a_moon(t)')\n",
    "    plt.title(\"Evolution of the Moon's Semimajor Axis with Age\")\n",
    "    plt.xlabel('Age(Gyr)')\n",
    "    plt.ylabel('Simemajor axis (km)')\n",
    "    plt.grid(True)\n",
    "    plt.legend()\n",
    "    pdf.savefig()\n",
    "   \n",
    "\n",
    "\n",
    "\n",
    "    plt.plot(age, lod_hr, color='g', label='Length 0f Day')\n",
    "    plt.title(\"Temporal Evolution of Earth's Day Length\")\n",
    "    plt.xlabel('Age (Gyr)')\n",
    "    plt.ylabel('Length of Day (hours)')\n",
    "    plt.grid(True)\n",
    "    plt.legend()\n",
    "    pdf.savefig() \n",
    "  \n"
   ]
  },
  {
   "cell_type": "code",
   "execution_count": null,
   "id": "d97d5dfc-da1f-470f-9d2c-dea4b994aadb",
   "metadata": {},
   "outputs": [],
   "source": []
  }
 ],
 "metadata": {
  "kernelspec": {
   "display_name": "Python 3 (ipykernel)",
   "language": "python",
   "name": "python3"
  },
  "language_info": {
   "codemirror_mode": {
    "name": "ipython",
    "version": 3
   },
   "file_extension": ".py",
   "mimetype": "text/x-python",
   "name": "python",
   "nbconvert_exporter": "python",
   "pygments_lexer": "ipython3",
   "version": "3.12.3"
  }
 },
 "nbformat": 4,
 "nbformat_minor": 5
}
